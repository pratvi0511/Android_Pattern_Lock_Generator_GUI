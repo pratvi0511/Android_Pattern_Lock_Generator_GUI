{
  "nbformat": 4,
  "nbformat_minor": 0,
  "metadata": {
    "colab": {
      "provenance": [],
      "collapsed_sections": [],
      "include_colab_link": true
    },
    "kernelspec": {
      "name": "python3",
      "display_name": "Python 3"
    },
    "language_info": {
      "name": "python"
    }
  },
  "cells": [
    {
      "cell_type": "markdown",
      "metadata": {
        "id": "view-in-github",
        "colab_type": "text"
      },
      "source": [
        "<a href=\"https://colab.research.google.com/github/pratvi0511/Android_Pattern_Lock_Generator_GUI/blob/main/MLHomewoek2_Q2_JS01292.ipynb\" target=\"_parent\"><img src=\"https://colab.research.google.com/assets/colab-badge.svg\" alt=\"Open In Colab\"/></a>"
      ]
    },
    {
      "cell_type": "markdown",
      "source": [
        "## CMSC 678 Fall 2022 - Homework 2\n",
        "\n",
        "### Question 2\n",
        "\n",
        "Your goal is to implement a multi-class Perceeptron and apply it to the MNIST digits dataset. You should get the data and labels. Each row in the data file is 784 integers that represent the grayscale values of a 28x28 handwritten digit. Each row in the labels file is a single digit in the range 0-9 and is in a 1-to-1 correspondence with rows in the data file.\n",
        "Randomly split the data into half for training and half for testing. Then implement a multi-class Perceptron as follows:\n",
        "\n",
        "* There is a weight vector per class (so 10 of them)\n",
        "* The predicted class is the one for which wx is largest using the class-specific vectors\n",
        "* When a prediction is wrong, the weights for the correct class are increased by x and the weights for the incorrectly predicted class\n",
        "are decreased by x\n",
        "-------------------------------------------------------------------\n",
        "Turn in:\n",
        "* Your code\n",
        "*The accuracy of the classifier on the training set\n",
        "*The accuracy of the classifier on the test set\n",
        "*A brief writeup describing your implementation and the convergence criterion you chose."
      ],
      "metadata": {
        "id": "Ml651bxY3_Zn"
      }
    },
    {
      "cell_type": "markdown",
      "source": [
        "#### First Step: Import the necessary libraries."
      ],
      "metadata": {
        "id": "l_DIYU6Q71Oz"
      }
    },
    {
      "cell_type": "code",
      "source": [
        "import sys,os\n",
        "import matplotlib.pyplot as plt\n",
        "from sklearn.model_selection import train_test_split, GridSearchCV\n",
        "from tqdm import tqdm\n",
        "import pandas as pd\n",
        "import numpy as num"
      ],
      "metadata": {
        "id": "XExu9idy7j7m"
      },
      "execution_count": null,
      "outputs": []
    },
    {
      "cell_type": "markdown",
      "source": [
        "#### Second Step: To fetch the data and labels metioned in the question above."
      ],
      "metadata": {
        "id": "ugZ5XafR8EF4"
      }
    },
    {
      "cell_type": "code",
      "source": [
        "x_train = num.loadtxt(fname = 'MNIST_data.txt')\n",
        "\n",
        "x_train = num.append(x_train, num.ones([len(x_train),1]),1) \n",
        "\n",
        "y_train = num.loadtxt(fname = 'MNIST_labels.txt')"
      ],
      "metadata": {
        "id": "mI978_8Z8aHA"
      },
      "execution_count": null,
      "outputs": []
    },
    {
      "cell_type": "markdown",
      "source": [
        "#### Third Step: To randomly split the data into half for training and half for testing."
      ],
      "metadata": {
        "id": "8rE0DQe79BST"
      }
    },
    {
      "cell_type": "code",
      "source": [
        "X_T, X_Tst, y_T, y_Tst = train_test_split(x_train, y_train, test_size=0.5, random_state=42)"
      ],
      "metadata": {
        "id": "oV9T5XqJ9dwZ"
      },
      "execution_count": null,
      "outputs": []
    },
    {
      "cell_type": "markdown",
      "source": [
        "#### Fourth Step: To create a weight vector per class (so 10 of them)"
      ],
      "metadata": {
        "id": "uesBdhWP9oxV"
      }
    },
    {
      "cell_type": "code",
      "source": [
        "w0 = num.zeros((10,785))\n",
        "wx = num.zeros((10,1))"
      ],
      "metadata": {
        "id": "ePDS8BTx9n9E"
      },
      "execution_count": null,
      "outputs": []
    },
    {
      "cell_type": "markdown",
      "source": [
        "#### Fifth Step: The training phase"
      ],
      "metadata": {
        "id": "usByqqZp-LkH"
      }
    },
    {
      "cell_type": "code",
      "source": [
        "def train():\n",
        "    global train_acc\n",
        "    train_acc = 0\n",
        "    for i in range(len(X_T)):\n",
        "        for j in range(len(w0)):\n",
        "            wx[j] = num.dot(X_T[i],w0[j])\n",
        "        y_pred = num.argmax(wx)\n",
        "\n",
        "        if y_pred == y_T[i]:\n",
        "            train_acc += 1\n",
        "        else:\n",
        "            y_actual = int(y_T[i]) \n",
        "            w0[y_pred] = w0[y_pred] - X_T[i]\n",
        "            w0[y_actual] = w0[y_actual] + X_T[i]"
      ],
      "metadata": {
        "id": "iqKzwr94-bLU"
      },
      "execution_count": null,
      "outputs": []
    },
    {
      "cell_type": "markdown",
      "source": [
        "#### Sixth Step: The testing phase"
      ],
      "metadata": {
        "id": "MIl8dnd8-ys9"
      }
    },
    {
      "cell_type": "code",
      "source": [
        "def test():\n",
        "    global test_acc\n",
        "    test_acc = 0\n",
        "    for i in range(len(X_Tst)):\n",
        "        for j in range(len(w0)):\n",
        "            wx[j] = num.dot(X_Tst[i],w0[j])\n",
        "        y_pred1 = num.argmax(wx)\n",
        "\n",
        "        if y_pred1 == y_Tst[i]:\n",
        "            test_acc += 1"
      ],
      "metadata": {
        "id": "aKCckX9i_Wcq"
      },
      "execution_count": null,
      "outputs": []
    },
    {
      "cell_type": "code",
      "source": [
        "def get_acc():\n",
        "    print(\"The Training Accuracy is \",train_acc/(len(X_T)))\n",
        "    print(\"The Testing Accuracy is \",test_acc/(len(X_Tst)))"
      ],
      "metadata": {
        "id": "2-9Czrcx_lE1"
      },
      "execution_count": null,
      "outputs": []
    },
    {
      "cell_type": "code",
      "source": [
        "train()\n",
        "test()\n",
        "get_acc()"
      ],
      "metadata": {
        "colab": {
          "base_uri": "https://localhost:8080/"
        },
        "id": "RT__BSaL_0E7",
        "outputId": "73dd0dd9-1d34-4cbc-a3af-de443108250d"
      },
      "execution_count": null,
      "outputs": [
        {
          "output_type": "stream",
          "name": "stdout",
          "text": [
            "The Training Accuracy is  0.8562\n",
            "The Testing Accuracy is  0.8668\n"
          ]
        }
      ]
    },
    {
      "cell_type": "markdown",
      "source": [
        "#### Seventh Step: A brief writeup describing the implementation and the convergence criterion of 2, 4, 8, 16, 32, 64, 128, 256 times/iterations."
      ],
      "metadata": {
        "id": "S9NILxwQAYVP"
      }
    },
    {
      "cell_type": "markdown",
      "source": [
        "##### 2 iterations"
      ],
      "metadata": {
        "id": "ieiXugfTA09s"
      }
    },
    {
      "cell_type": "code",
      "source": [
        "for times in range(0,1):\n",
        "    train()\n",
        "test()\n",
        "get_acc()"
      ],
      "metadata": {
        "colab": {
          "base_uri": "https://localhost:8080/"
        },
        "id": "NIz4bNEsBdgT",
        "outputId": "308f6998-a1f1-4f58-d1fb-52453f3e7351"
      },
      "execution_count": null,
      "outputs": [
        {
          "output_type": "stream",
          "name": "stdout",
          "text": [
            "The Training Accuracy is  0.874\n",
            "The Testing Accuracy is  0.8624\n"
          ]
        }
      ]
    },
    {
      "cell_type": "markdown",
      "source": [
        "##### 4 iterations"
      ],
      "metadata": {
        "id": "xkaz45mOA504"
      }
    },
    {
      "cell_type": "code",
      "source": [
        "for times in range(0,2):\n",
        "    train()\n",
        "test()\n",
        "get_acc()"
      ],
      "metadata": {
        "colab": {
          "base_uri": "https://localhost:8080/"
        },
        "id": "_7uzoQRoBkJs",
        "outputId": "079f5760-ec03-454d-d539-b3dc8cf6c335"
      },
      "execution_count": null,
      "outputs": [
        {
          "output_type": "stream",
          "name": "stdout",
          "text": [
            "The Training Accuracy is  0.8948\n",
            "The Testing Accuracy is  0.8556\n"
          ]
        }
      ]
    },
    {
      "cell_type": "markdown",
      "source": [
        "##### 8 iterations"
      ],
      "metadata": {
        "id": "f4kkkCDYA8Le"
      }
    },
    {
      "cell_type": "code",
      "source": [
        "for times in range(0,4):\n",
        "    train()\n",
        "test()\n",
        "get_acc()"
      ],
      "metadata": {
        "colab": {
          "base_uri": "https://localhost:8080/"
        },
        "id": "IFc4aSihBpOs",
        "outputId": "36442304-8753-4624-8ce3-7b8ad1e8680f"
      },
      "execution_count": null,
      "outputs": [
        {
          "output_type": "stream",
          "name": "stdout",
          "text": [
            "The Training Accuracy is  0.9164\n",
            "The Testing Accuracy is  0.8516\n"
          ]
        }
      ]
    },
    {
      "cell_type": "markdown",
      "source": [
        "##### 16 iterations"
      ],
      "metadata": {
        "id": "CVB5tpD4A-ZV"
      }
    },
    {
      "cell_type": "code",
      "source": [
        "for times in range(0,8):\n",
        "    train()\n",
        "test()\n",
        "get_acc()"
      ],
      "metadata": {
        "colab": {
          "base_uri": "https://localhost:8080/"
        },
        "id": "V6yucL0WBsrZ",
        "outputId": "d8f8cd29-6069-409d-d267-73e997acf938"
      },
      "execution_count": null,
      "outputs": [
        {
          "output_type": "stream",
          "name": "stdout",
          "text": [
            "The Training Accuracy is  0.9396\n",
            "The Testing Accuracy is  0.8668\n"
          ]
        }
      ]
    },
    {
      "cell_type": "markdown",
      "source": [
        "##### 32 iterations"
      ],
      "metadata": {
        "id": "celX6_9ZBBAM"
      }
    },
    {
      "cell_type": "code",
      "source": [
        "for times in range(0,16):\n",
        "    train()\n",
        "test()\n",
        "get_acc()"
      ],
      "metadata": {
        "colab": {
          "base_uri": "https://localhost:8080/"
        },
        "id": "3xDtHDg0Bye_",
        "outputId": "e27e26d1-26a2-4565-d535-95d95fd04bfb"
      },
      "execution_count": null,
      "outputs": [
        {
          "output_type": "stream",
          "name": "stdout",
          "text": [
            "The Training Accuracy is  0.9542\n",
            "The Testing Accuracy is  0.875\n"
          ]
        }
      ]
    },
    {
      "cell_type": "markdown",
      "source": [
        "##### 64 iterations"
      ],
      "metadata": {
        "id": "2Xbns3wzBC2v"
      }
    },
    {
      "cell_type": "code",
      "source": [
        "for times in range(0,32):\n",
        "    train()\n",
        "test()\n",
        "get_acc()"
      ],
      "metadata": {
        "colab": {
          "base_uri": "https://localhost:8080/"
        },
        "id": "AoXnhBUiB4af",
        "outputId": "2eadb5fc-084a-46ca-ce0e-5ee5d21bbaf5"
      },
      "execution_count": null,
      "outputs": [
        {
          "output_type": "stream",
          "name": "stdout",
          "text": [
            "The Training Accuracy is  0.982\n",
            "The Testing Accuracy is  0.8736\n"
          ]
        }
      ]
    },
    {
      "cell_type": "markdown",
      "source": [
        "##### 128 iterations"
      ],
      "metadata": {
        "id": "YTpOFeg8BExB"
      }
    },
    {
      "cell_type": "code",
      "source": [
        "for times in range(0,64):\n",
        "    train()\n",
        "test()\n",
        "get_acc()"
      ],
      "metadata": {
        "colab": {
          "base_uri": "https://localhost:8080/"
        },
        "id": "kUOTp_S1B7hD",
        "outputId": "f5a1e93a-1646-44cc-f0c6-8af4182930fc"
      },
      "execution_count": null,
      "outputs": [
        {
          "output_type": "stream",
          "name": "stdout",
          "text": [
            "The Training Accuracy is  0.9932\n",
            "The Testing Accuracy is  0.8806\n"
          ]
        }
      ]
    },
    {
      "cell_type": "markdown",
      "source": [
        "##### 256 iterations"
      ],
      "metadata": {
        "id": "rI4sBFf-BLDt"
      }
    },
    {
      "cell_type": "code",
      "source": [
        "for times in range(0,128):\n",
        "    train()\n",
        "test()\n",
        "get_acc()"
      ],
      "metadata": {
        "colab": {
          "base_uri": "https://localhost:8080/"
        },
        "id": "v3PBmX3rAXtv",
        "outputId": "d7cea571-f2da-4bc0-c74d-086ba985cbe8"
      },
      "execution_count": null,
      "outputs": [
        {
          "output_type": "stream",
          "name": "stdout",
          "text": [
            "The Training Accuracy is  1.0\n",
            "The Testing Accuracy is  0.8808\n"
          ]
        }
      ]
    }
  ]
}